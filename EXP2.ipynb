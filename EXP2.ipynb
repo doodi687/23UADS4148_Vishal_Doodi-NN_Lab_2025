{
 "cells": [
  {
   "cell_type": "code",
   "execution_count": 2,
   "metadata": {},
   "outputs": [
    {
     "name": "stdout",
     "output_type": "stream",
     "text": [
      "Fun1 Accuracy: 100.00% | Predictions: [0 0 0 1]\n",
      "Fun2 Accuracy: 100.00% | Predictions: [0 0 1 0]\n",
      "Fun3 Accuracy: 100.00% | Predictions: [0 1 0 0]\n",
      "Fun4 Accuracy: 100.00% | Predictions: [1 0 0 0]\n",
      "Final Perceptron Accuracy: 100.00% | Predictions: [0 1 1 0]\n"
     ]
    }
   ],
   "source": [
    "import numpy as np\n",
    "\n",
    "class Perceptron:\n",
    "    def __init__(self, input_size, learning_rate=0.1, epochs=100):\n",
    "        \"\"\"\n",
    "        Initializes the perceptron with random weights, learning rate, and number of epochs.\n",
    "        :param input_size: Number of input features.\n",
    "        :param learning_rate: Step size for weight updates.\n",
    "        :param epochs: Number of training iterations ,\"\"\"\n"
    "       
    "        self.weights = np.random.randn(input_size + 1)  # +1 for bias term\n",
    "        self.learning_rate = learning_rate\n",
    "        self.epochs = epochs\n",
    "\n",
    "    def activation(self, x):\n",
    "        \"\"\"\n",
    "        Activation function: Returns 1 if input is greater than or equal to 0, else returns 0.\n",
    "        :param x: Input value ,\"\"\"\n"
    "        
    "        return 1 if x >= 0 else 0\n",
    "\n",
    "    def predict(self, x):\n",
    "        \"\"\"\n",
    "        Predicts the output for a given input vector.\n",
    "        :param x: Input feature vector\n",
    "        :return: Predicted binary output (0 or 1)\n",
    "        \"\"\"\n",
    "        x = np.insert(x, 0, 1)  # Insert bias term at the beginning\n",
    "        return self.activation(np.dot(self.weights, x))\n",
    "\n",
    "    def train(self, X, y):\n",
    "        \"\"\"\n",
    "        Trains the perceptron using the Perceptron Learning Algorithm.\n",
    "        :param X: Training data (features)\n",
    "        :param y: Training labels (expected outputs)\n",
    "        \"\"\"\n",
    "        X = np.c_[np.ones(X.shape[0]), X]  # Add bias term to input features\n",
    "        for _ in range(self.epochs):\n",
    "            for i in range(X.shape[0]):\n",
    "                y_pred = self.activation(np.dot(self.weights, X[i]))\n",
    "                self.weights += self.learning_rate * (y[i] - y_pred) * X[i]  # Weight update rule\n",
    "\n",
    "    def evaluate(self, X, y):\n",
    "        \"\"\"\n",
    "        Evaluates the perceptron on a given dataset.\n",
    "        :param X: Test data (features)\n",
    "        :param y: True labels\n",
    "        :return: Accuracy percentage and predicted labels\n",
    "        \"\"\"\n",
    "        y_pred = np.array([self.predict(x) for x in X])\n",
    "        accuracy = np.mean(y_pred == y) * 100\n",
    "        return accuracy, y_pred\n",
    "\n",
    "\n",
    "def train_perceptron(X, y, name):\n",
    "    \"\"\"\n",
    "    Trains a perceptron on the given dataset and prints its accuracy and predictions.\n",
    "    :param X: Input feature matrix\n",
    "    :param y: Target labels\n",
    "    :param name: Name of the perceptron (for display purposes)\n",
    "    :return: Tuple containing predicted values and actual labels\n",
    "    \"\"\"\n",
    "    p = Perceptron(input_size=X.shape[1])\n",
    "    p.train(X, y)\n",
    "    accuracy, predictions = p.evaluate(X, y)\n",
    "    print(f\"{name} Accuracy: {accuracy:.2f}% | Predictions: {predictions}\")\n",
    "    return predictions, y\n",
    "\n",
    "# Define input feature vectors representing all possible Boolean combinations\n",
    "fun_X = np.array([[0, 0], [0, 1], [1, 0], [1, 1]])\n",
    "\n",
    "# Define target outputs for different Boolean functions\n",
    "fun1_y = np.array([0, 0, 0, 1])  # NAND function\n",
    "fun2_y = np.array([0, 0, 1, 0])  # XOR function\n",
    "fun3_y = np.array([0, 1, 0, 0])  # Some Boolean function\n",
    "fun4_y = np.array([1, 0, 0, 0])  # Some Boolean function\n",
    "\n",
    "# Train perceptrons on different Boolean functions\n",
    "fun1_predictions, _ = train_perceptron(fun_X, fun1_y, \"Fun1\")\n",
    "fun2_predictions, _ = train_perceptron(fun_X, fun2_y, \"Fun2\")\n",
    "fun3_predictions, _ = train_perceptron(fun_X, fun3_y, \"Fun3\")\n",
    "fun4_predictions, _ = train_perceptron(fun_X, fun4_y, \"Fun4\")\n",
    "\n",
    "# **Final Perceptron Training**\n",
    "# Combine the predictions of previous perceptrons as input features for a final perceptron\n",
    "final_X = np.column_stack([fun1_predictions, fun2_predictions, fun3_predictions, fun4_predictions])\n",
    "final_y = np.array([0, 1, 1, 0])  # Target labels for final perceptron\n",
    "\n",
    "# Train final perceptron to classify the output\n",
    "final_predictions, actual_y = train_perceptron(final_X, final_y, \"Final Perceptron\")\n"
   ]
  },
  {
   "cell_type": "code",
   "execution_count": null,
   "metadata": {},
   "outputs": [],
   "source": []
  },
  {
   "cell_type": "code",
   "execution_count": null,
   "metadata": {},
   "outputs": [],
   "source": []
  }
 ],
 "metadata": {
  "kernelspec": {
   "display_name": "Python 3",
   "language": "python",
   "name": "python3"
  },
  "language_info": {
   "codemirror_mode": {
    "name": "ipython",
    "version": 3
   },
   "file_extension": ".py",
   "mimetype": "text/x-python",
   "name": "python",
   "nbconvert_exporter": "python",
   "pygments_lexer": "ipython3",
   "version": "3.12.7"
  }
 },
 "nbformat": 4,
 "nbformat_minor": 2
}
