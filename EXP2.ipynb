{
 "cells": [
  {
   "cell_type": "code",
   "execution_count": 1,
   "metadata": {},
   "outputs": [
    {
     "name": "stdout",
     "output_type": "stream",
     "text": [
      "Fun1 Accuracy: 100.00% | Predictions: [0 0 0 1]\n",
      "Fun2 Accuracy: 100.00% | Predictions: [0 0 1 0]\n",
      "Fun3 Accuracy: 100.00% | Predictions: [0 1 0 0]\n",
      "Fun4 Accuracy: 100.00% | Predictions: [1 0 0 0]\n",
      "Final Perceptron Accuracy: 100.00% | Predictions: [0 1 1 0]\n"
     ]
    }
   ],
   "source": [
    "\n",
    "\n",
    "import numpy as np\n",
    "class Perceptron:\n",
    "    def __init__(self, input_size, learning_rate=0.1, epochs=100):\n",
    "        self.weights = np.random.randn(input_size + 1)  # +1 for bias\n",
    "        self.learning_rate = learning_rate\n",
    "        self.epochs = epochs\n",
    "\n",
    "    def activation(self, x):\n",
    "        return 1 if x >= 0 else 0\n",
    "\n",
    "    def predict(self, x):\n",
    "        x = np.insert(x, 0, 1)  \n",
    "        return self.activation(np.dot(self.weights, x))\n",
    "\n",
    "    def train(self, X, y):\n",
    "        X = np.c_[np.ones(X.shape[0]), X] \n",
    "        for _ in range(self.epochs):\n",
    "            for i in range(X.shape[0]):\n",
    "                y_pred = self.activation(np.dot(self.weights, X[i]))\n",
    "                self.weights += self.learning_rate * (y[i] - y_pred) * X[i]\n",
    "\n",
    "    def evaluate(self, X, y):\n",
    "        y_pred = np.array([self.predict(x) for x in X])\n",
    "        accuracy = np.mean(y_pred == y) * 100\n",
    "        return accuracy, y_pred\n",
    "\n",
    "def train_perceptron(X, y, name):\n",
    "    p = Perceptron(input_size=X.shape[1])\n",
    "    p.train(X, y)\n",
    "    accuracy, predictions = p.evaluate(X, y)\n",
    "    print(f\"{name} Accuracy: {accuracy:.2f}% | Predictions: {predictions}\")\n",
    "    return predictions, y\n",
    "\n",
    "fun_X = np.array([[0, 0], [0, 1], [1, 0], [1, 1]])\n",
    "\n",
    "fun1_y = np.array([0, 0, 0, 1])  \n",
    "fun2_y = np.array([0, 0, 1, 0])  \n",
    "fun3_y = np.array([0, 1, 0, 0])  \n",
    "fun4_y = np.array([1, 0, 0, 0]) \n",
    "\n",
    "\n",
    "fun1_predictions, _ = train_perceptron(fun_X, fun1_y, \"Fun1\")\n",
    "fun2_predictions, _ = train_perceptron(fun_X, fun2_y, \"Fun2\")\n",
    "fun3_predictions, _ = train_perceptron(fun_X, fun3_y, \"Fun3\")\n",
    "fun4_predictions, _ = train_perceptron(fun_X, fun4_y, \"Fun4\")\n",
    "\n",
    "# **Final Perceptron Training*\n",
    "final_X = np.column_stack([fun1_predictions, fun2_predictions, fun3_predictions, fun4_predictions])\n",
    "final_y = np.array([0, 1, 1, 0])\n",
    "\n",
    "final_predictions, actual_y = train_perceptron(final_X, final_y, \"Final Perceptron\")\n",
    "\n",
    "\n",
    "\n",
    " \n",
    "\n",
    " \n",
    "\n",
    " \n",
    "\n"
   ]
  },
  {
   "cell_type": "code",
   "execution_count": null,
   "metadata": {},
   "outputs": [],
   "source": []
  },
  {
   "cell_type": "code",
   "execution_count": null,
   "metadata": {},
   "outputs": [],
   "source": []
  }
 ],
 "metadata": {
  "kernelspec": {
   "display_name": "Python 3",
   "language": "python",
   "name": "python3"
  },
  "language_info": {
   "codemirror_mode": {
    "name": "ipython",
    "version": 3
   },
   "file_extension": ".py",
   "mimetype": "text/x-python",
   "name": "python",
   "nbconvert_exporter": "python",
   "pygments_lexer": "ipython3",
   "version": "3.12.7"
  }
 },
 "nbformat": 4,
 "nbformat_minor": 2
}
